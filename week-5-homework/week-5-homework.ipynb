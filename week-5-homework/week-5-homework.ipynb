{
 "cells": [
  {
   "cell_type": "code",
   "execution_count": 54,
   "id": "8e501b02",
   "metadata": {},
   "outputs": [],
   "source": [
    "import pyspark\n",
    "from pyspark.sql import SparkSession, types\n",
    "import pandas as pd"
   ]
  },
  {
   "cell_type": "code",
   "execution_count": 2,
   "id": "dcab1d4c",
   "metadata": {},
   "outputs": [
    {
     "name": "stderr",
     "output_type": "stream",
     "text": [
      "WARNING: An illegal reflective access operation has occurred\n",
      "WARNING: Illegal reflective access by org.apache.spark.unsafe.Platform (file:/home/saheedyusuf/bin/spark-3.0.3-bin-hadoop3.2/jars/spark-unsafe_2.12-3.0.3.jar) to constructor java.nio.DirectByteBuffer(long,int)\n",
      "WARNING: Please consider reporting this to the maintainers of org.apache.spark.unsafe.Platform\n",
      "WARNING: Use --illegal-access=warn to enable warnings of further illegal reflective access operations\n",
      "WARNING: All illegal access operations will be denied in a future release\n",
      "22/02/25 10:34:20 WARN NativeCodeLoader: Unable to load native-hadoop library for your platform... using builtin-java classes where applicable\n",
      "Using Spark's default log4j profile: org/apache/spark/log4j-defaults.properties\n",
      "Setting default log level to \"WARN\".\n",
      "To adjust logging level use sc.setLogLevel(newLevel). For SparkR, use setLogLevel(newLevel).\n"
     ]
    }
   ],
   "source": [
    "spark = SparkSession.builder \\\n",
    "    .master(\"local[*]\") \\\n",
    "    .appName('homeworkWeek5') \\\n",
    "    .getOrCreate()"
   ]
  },
  {
   "cell_type": "code",
   "execution_count": 8,
   "id": "6028554b",
   "metadata": {},
   "outputs": [],
   "source": [
    "df = spark.read.csv('./data/fhvhv/fhvhv_tripdata_2021-02.csv', header=True)"
   ]
  },
  {
   "cell_type": "code",
   "execution_count": 9,
   "id": "173607af",
   "metadata": {},
   "outputs": [
    {
     "data": {
      "text/plain": [
       "StructType(List(StructField(hvfhs_license_num,StringType,true),StructField(dispatching_base_num,StringType,true),StructField(pickup_datetime,StringType,true),StructField(dropoff_datetime,StringType,true),StructField(PULocationID,StringType,true),StructField(DOLocationID,StringType,true),StructField(SR_Flag,StringType,true)))"
      ]
     },
     "execution_count": 9,
     "metadata": {},
     "output_type": "execute_result"
    }
   ],
   "source": [
    "df.schema"
   ]
  },
  {
   "cell_type": "code",
   "execution_count": 64,
   "id": "a3a2f0ea",
   "metadata": {},
   "outputs": [],
   "source": [
    "schema = types.StructType([\n",
    "    types.StructField('hvfhs_license_num',types.StringType(), True),\n",
    "    types.StructField('dispatching_base_num',types.StringType(),True),\n",
    "    types.StructField('pickup_datetime',types.TimestampType(),True),\n",
    "    types.StructField('dropoff_datetime',types.TimestampType(),True),\n",
    "    types.StructField('PULocationID',types.StringType(),True),\n",
    "    types.StructField('DOLocationID',types.StringType(),True),\n",
    "    types.StructField('SR_Flag',types.StringType(),True)])"
   ]
  },
  {
   "cell_type": "code",
   "execution_count": 14,
   "id": "0f53c607",
   "metadata": {},
   "outputs": [],
   "source": [
    "df = spark.read.option(\"header\", \"true\").schema(schema).csv('./data/fhvhv/fhvhv_tripdata_2021-02.csv')"
   ]
  },
  {
   "cell_type": "code",
   "execution_count": 17,
   "id": "eb60fb61",
   "metadata": {},
   "outputs": [
    {
     "data": {
      "text/plain": [
       "[Row(hvfhs_license_num='HV0003', dispatching_base_num='B02764', pickup_datetime=datetime.datetime(2021, 2, 1, 0, 10, 40), dropoff_datetime=datetime.datetime(2021, 2, 1, 0, 21, 9), PULocationID='35', DOLocationID='39', SR_Flag=None),\n",
       " Row(hvfhs_license_num='HV0003', dispatching_base_num='B02764', pickup_datetime=datetime.datetime(2021, 2, 1, 0, 27, 23), dropoff_datetime=datetime.datetime(2021, 2, 1, 0, 44, 1), PULocationID='39', DOLocationID='35', SR_Flag=None),\n",
       " Row(hvfhs_license_num='HV0005', dispatching_base_num='B02510', pickup_datetime=datetime.datetime(2021, 2, 1, 0, 28, 38), dropoff_datetime=datetime.datetime(2021, 2, 1, 0, 38, 27), PULocationID='39', DOLocationID='91', SR_Flag=None),\n",
       " Row(hvfhs_license_num='HV0005', dispatching_base_num='B02510', pickup_datetime=datetime.datetime(2021, 2, 1, 0, 43, 37), dropoff_datetime=datetime.datetime(2021, 2, 1, 1, 23, 20), PULocationID='91', DOLocationID='228', SR_Flag=None),\n",
       " Row(hvfhs_license_num='HV0003', dispatching_base_num='B02872', pickup_datetime=datetime.datetime(2021, 2, 1, 0, 8, 42), dropoff_datetime=datetime.datetime(2021, 2, 1, 0, 17, 57), PULocationID='126', DOLocationID='250', SR_Flag=None),\n",
       " Row(hvfhs_license_num='HV0003', dispatching_base_num='B02872', pickup_datetime=datetime.datetime(2021, 2, 1, 0, 26, 2), dropoff_datetime=datetime.datetime(2021, 2, 1, 0, 42, 51), PULocationID='208', DOLocationID='243', SR_Flag=None),\n",
       " Row(hvfhs_license_num='HV0003', dispatching_base_num='B02872', pickup_datetime=datetime.datetime(2021, 2, 1, 0, 45, 50), dropoff_datetime=datetime.datetime(2021, 2, 1, 1, 2, 50), PULocationID='243', DOLocationID='220', SR_Flag=None),\n",
       " Row(hvfhs_license_num='HV0003', dispatching_base_num='B02764', pickup_datetime=datetime.datetime(2021, 2, 1, 0, 6, 42), dropoff_datetime=datetime.datetime(2021, 2, 1, 0, 31, 50), PULocationID='49', DOLocationID='37', SR_Flag=None),\n",
       " Row(hvfhs_license_num='HV0003', dispatching_base_num='B02764', pickup_datetime=datetime.datetime(2021, 2, 1, 0, 34, 34), dropoff_datetime=datetime.datetime(2021, 2, 1, 0, 58, 13), PULocationID='37', DOLocationID='76', SR_Flag=None),\n",
       " Row(hvfhs_license_num='HV0005', dispatching_base_num='B02510', pickup_datetime=datetime.datetime(2021, 2, 1, 0, 3, 43), dropoff_datetime=datetime.datetime(2021, 2, 1, 0, 39, 37), PULocationID='80', DOLocationID='241', SR_Flag=None)]"
      ]
     },
     "execution_count": 17,
     "metadata": {},
     "output_type": "execute_result"
    }
   ],
   "source": [
    "df.head(10)"
   ]
  },
  {
   "cell_type": "code",
   "execution_count": 19,
   "id": "ac8dc799",
   "metadata": {},
   "outputs": [],
   "source": [
    "df = df.repartition(24)"
   ]
  },
  {
   "cell_type": "code",
   "execution_count": 20,
   "id": "7e87aed5",
   "metadata": {},
   "outputs": [
    {
     "name": "stderr",
     "output_type": "stream",
     "text": [
      "22/02/25 21:23:34 WARN MemoryManager: Total allocation exceeds 95.00% (1,020,054,720 bytes) of heap memory\n",
      "Scaling row group sizes to 95.00% for 8 writers\n",
      "22/02/25 21:23:38 WARN MemoryManager: Total allocation exceeds 95.00% (1,020,054,720 bytes) of heap memory\n",
      "Scaling row group sizes to 95.00% for 8 writers\n",
      "22/02/25 21:23:41 WARN MemoryManager: Total allocation exceeds 95.00% (1,020,054,720 bytes) of heap memory\n",
      "Scaling row group sizes to 95.00% for 8 writers\n",
      "                                                                                \r"
     ]
    }
   ],
   "source": [
    "df.write.parquet('./data/fhvhv/pq/')"
   ]
  },
  {
   "cell_type": "code",
   "execution_count": 21,
   "id": "6d310238",
   "metadata": {},
   "outputs": [],
   "source": [
    "df = spark.read.parquet('./data/fhvhv/pq/')"
   ]
  },
  {
   "cell_type": "code",
   "execution_count": 22,
   "id": "a12fbed4",
   "metadata": {},
   "outputs": [
    {
     "name": "stdout",
     "output_type": "stream",
     "text": [
      "root\n",
      " |-- hvfhs_license_num: string (nullable = true)\n",
      " |-- dispatching_base_num: string (nullable = true)\n",
      " |-- pickup_datetime: timestamp (nullable = true)\n",
      " |-- dropoff_datetime: timestamp (nullable = true)\n",
      " |-- PULocationID: string (nullable = true)\n",
      " |-- DOLocationID: string (nullable = true)\n",
      " |-- SR_Flag: string (nullable = true)\n",
      "\n"
     ]
    }
   ],
   "source": [
    "df.printSchema()"
   ]
  },
  {
   "cell_type": "code",
   "execution_count": 23,
   "id": "0bd565d0",
   "metadata": {},
   "outputs": [
    {
     "data": {
      "text/plain": [
       "11613942"
      ]
     },
     "execution_count": 23,
     "metadata": {},
     "output_type": "execute_result"
    }
   ],
   "source": [
    "df.count()."
   ]
  },
  {
   "cell_type": "code",
   "execution_count": 24,
   "id": "5bb14e7f",
   "metadata": {},
   "outputs": [],
   "source": [
    "df.registerTempTable('fhvhv')"
   ]
  },
  {
   "cell_type": "code",
   "execution_count": 34,
   "id": "0c3ef12c",
   "metadata": {},
   "outputs": [
    {
     "name": "stdout",
     "output_type": "stream",
     "text": [
      "+--------+\n",
      "|count(1)|\n",
      "+--------+\n",
      "|  367170|\n",
      "+--------+\n",
      "\n"
     ]
    }
   ],
   "source": [
    "spark.sql(\"\"\"\n",
    "select count(*) from fhvhv where pickup_datetime between '2021-02-15 00:00:00' and '2021-02-15 23:59:59'\n",
    "\"\"\").show()"
   ]
  },
  {
   "cell_type": "code",
   "execution_count": 47,
   "id": "c82e3e23",
   "metadata": {},
   "outputs": [
    {
     "name": "stderr",
     "output_type": "stream",
     "text": [
      "[Stage 34:>                                                         (0 + 8) / 8]\r"
     ]
    },
    {
     "name": "stdout",
     "output_type": "stream",
     "text": [
      "+-------------------+-------------------+------------------+\n",
      "|    pickup_datetime|   dropoff_datetime|              diff|\n",
      "+-------------------+-------------------+------------------+\n",
      "|2021-02-11 13:40:44|2021-02-12 10:39:44|            1259.0|\n",
      "|2021-02-17 15:54:53|2021-02-18 07:48:34| 953.6833333333333|\n",
      "|2021-02-20 12:08:15|2021-02-21 00:22:14| 733.9833333333333|\n",
      "|2021-02-03 20:24:25|2021-02-04 07:41:58|            677.55|\n",
      "|2021-02-19 23:17:44|2021-02-20 09:44:01| 626.2833333333333|\n",
      "|2021-02-25 17:13:35|2021-02-26 02:57:05|             583.5|\n",
      "|2021-02-20 01:36:13|2021-02-20 11:16:19|             580.1|\n",
      "|2021-02-18 15:24:19|2021-02-19 01:01:11| 576.8666666666667|\n",
      "|2021-02-18 01:31:20|2021-02-18 11:07:15| 575.9166666666666|\n",
      "|2021-02-10 20:51:39|2021-02-11 06:21:08| 569.4833333333333|\n",
      "|2021-02-10 01:56:17|2021-02-10 10:57:33| 541.2666666666667|\n",
      "|2021-02-25 09:18:18|2021-02-25 18:18:57|            540.65|\n",
      "|2021-02-21 19:59:13|2021-02-22 04:56:16|            537.05|\n",
      "|2021-02-09 18:36:13|2021-02-10 03:31:00| 534.7833333333333|\n",
      "|2021-02-06 09:48:09|2021-02-06 18:32:16| 524.1166666666667|\n",
      "|2021-02-02 09:42:30|2021-02-02 18:17:43| 515.2166666666667|\n",
      "|2021-02-10 10:12:08|2021-02-10 18:46:24| 514.2666666666667|\n",
      "|2021-02-09 13:30:13|2021-02-09 22:02:25|             512.2|\n",
      "|2021-02-21 22:50:52|2021-02-22 07:21:52|             511.0|\n",
      "|2021-02-05 21:32:33|2021-02-06 06:01:04|508.51666666666665|\n",
      "+-------------------+-------------------+------------------+\n",
      "only showing top 20 rows\n",
      "\n"
     ]
    },
    {
     "name": "stderr",
     "output_type": "stream",
     "text": [
      "                                                                                \r"
     ]
    }
   ],
   "source": [
    "spark.sql(\"\"\"\n",
    "select pickup_datetime, dropoff_datetime, (unix_timestamp(dropoff_datetime)-unix_timestamp(pickup_datetime))/(60) as diff from fhvhv order by diff desc\n",
    "\"\"\").show()"
   ]
  },
  {
   "cell_type": "code",
   "execution_count": 51,
   "id": "fa5684fe",
   "metadata": {},
   "outputs": [
    {
     "name": "stderr",
     "output_type": "stream",
     "text": [
      "[Stage 36:>                                                         (0 + 8) / 8]\r"
     ]
    },
    {
     "name": "stdout",
     "output_type": "stream",
     "text": [
      "+--------------------+-------+\n",
      "|dispatching_base_num|  count|\n",
      "+--------------------+-------+\n",
      "|              B02510|3233664|\n",
      "|              B02764| 965568|\n",
      "|              B02872| 882689|\n",
      "|              B02875| 685390|\n",
      "|              B02765| 559768|\n",
      "|              B02869| 429720|\n",
      "|              B02887| 322331|\n",
      "|              B02871| 312364|\n",
      "|              B02864| 311603|\n",
      "|              B02866| 311089|\n",
      "|              B02878| 305185|\n",
      "|              B02682| 303255|\n",
      "|              B02617| 274510|\n",
      "|              B02883| 251617|\n",
      "|              B02884| 244963|\n",
      "|              B02882| 232173|\n",
      "|              B02876| 215693|\n",
      "|              B02879| 210137|\n",
      "|              B02867| 200530|\n",
      "|              B02877| 198938|\n",
      "+--------------------+-------+\n",
      "only showing top 20 rows\n",
      "\n"
     ]
    },
    {
     "name": "stderr",
     "output_type": "stream",
     "text": [
      "                                                                                \r"
     ]
    }
   ],
   "source": [
    "spark.sql(\"\"\"\n",
    "select dispatching_base_num, count(dispatching_base_num) as count\n",
    "from fhvhv group by dispatching_base_num order by count desc \"\"\").show()"
   ]
  },
  {
   "cell_type": "markdown",
   "id": "c1826441",
   "metadata": {},
   "source": [
    "Number of stages taken is 2"
   ]
  },
  {
   "cell_type": "code",
   "execution_count": null,
   "id": "e19cfbe8",
   "metadata": {},
   "outputs": [],
   "source": []
  },
  {
   "cell_type": "code",
   "execution_count": 53,
   "id": "ecafb894",
   "metadata": {},
   "outputs": [
    {
     "name": "stdout",
     "output_type": "stream",
     "text": [
      "--2022-02-25 22:55:38--  https://s3.amazonaws.com/nyc-tlc/misc/taxi+_zone_lookup.csv\n",
      "Resolving s3.amazonaws.com (s3.amazonaws.com)... 52.217.109.134\n",
      "Connecting to s3.amazonaws.com (s3.amazonaws.com)|52.217.109.134|:443... connected.\n",
      "HTTP request sent, awaiting response... 200 OK\n",
      "Length: 12322 (12K) [application/octet-stream]\n",
      "Saving to: ‘taxi+_zone_lookup.csv’\n",
      "\n",
      "taxi+_zone_lookup.c 100%[===================>]  12.03K  --.-KB/s    in 0s      \n",
      "\n",
      "2022-02-25 22:55:39 (84.3 MB/s) - ‘taxi+_zone_lookup.csv’ saved [12322/12322]\n",
      "\n"
     ]
    }
   ],
   "source": [
    "!wget https://s3.amazonaws.com/nyc-tlc/misc/taxi+_zone_lookup.csv"
   ]
  },
  {
   "cell_type": "code",
   "execution_count": 57,
   "id": "a9227c53",
   "metadata": {},
   "outputs": [],
   "source": [
    "taxi_df = spark.read.csv('taxi+_zone_lookup.csv', header=True)"
   ]
  },
  {
   "cell_type": "code",
   "execution_count": 60,
   "id": "fb61a896",
   "metadata": {},
   "outputs": [
    {
     "data": {
      "text/plain": [
       "StructType(List(StructField(LocationID,StringType,true),StructField(Borough,StringType,true),StructField(Zone,StringType,true),StructField(service_zone,StringType,true)))"
      ]
     },
     "execution_count": 60,
     "metadata": {},
     "output_type": "execute_result"
    }
   ],
   "source": [
    "taxi_df.schema"
   ]
  },
  {
   "cell_type": "code",
   "execution_count": 65,
   "id": "c93a774c",
   "metadata": {},
   "outputs": [],
   "source": [
    "taxi_schema = types.StructType([\n",
    "        types.StructField('LocationID',types.StringType(),True),\n",
    "        types.StructField('Borough',types.StringType(),True),\n",
    "        types.StructField('Zone',types.StringType(),True),\n",
    "        types.StructField('service_zone',types.StringType(),True)])"
   ]
  },
  {
   "cell_type": "code",
   "execution_count": 66,
   "id": "fb55a405",
   "metadata": {},
   "outputs": [],
   "source": [
    "taxi_df = spark.read.option('head', True).schema(taxi_schema).csv('taxi+_zone_lookup.csv')"
   ]
  },
  {
   "cell_type": "code",
   "execution_count": 69,
   "id": "4d9a7dd3",
   "metadata": {},
   "outputs": [],
   "source": [
    "taxi_df.registerTempTable('taxi_zone')"
   ]
  },
  {
   "cell_type": "code",
   "execution_count": 71,
   "id": "8a01f1f0",
   "metadata": {},
   "outputs": [
    {
     "name": "stdout",
     "output_type": "stream",
     "text": [
      "+----------+-------------+--------------------+------------+\n",
      "|LocationID|      Borough|                Zone|service_zone|\n",
      "+----------+-------------+--------------------+------------+\n",
      "|LocationID|      Borough|                Zone|service_zone|\n",
      "|         1|          EWR|      Newark Airport|         EWR|\n",
      "|         2|       Queens|         Jamaica Bay|   Boro Zone|\n",
      "|         3|        Bronx|Allerton/Pelham G...|   Boro Zone|\n",
      "|         4|    Manhattan|       Alphabet City| Yellow Zone|\n",
      "|         5|Staten Island|       Arden Heights|   Boro Zone|\n",
      "|         6|Staten Island|Arrochar/Fort Wad...|   Boro Zone|\n",
      "|         7|       Queens|             Astoria|   Boro Zone|\n",
      "|         8|       Queens|        Astoria Park|   Boro Zone|\n",
      "|         9|       Queens|          Auburndale|   Boro Zone|\n",
      "|        10|       Queens|        Baisley Park|   Boro Zone|\n",
      "|        11|     Brooklyn|          Bath Beach|   Boro Zone|\n",
      "|        12|    Manhattan|        Battery Park| Yellow Zone|\n",
      "|        13|    Manhattan|   Battery Park City| Yellow Zone|\n",
      "|        14|     Brooklyn|           Bay Ridge|   Boro Zone|\n",
      "|        15|       Queens|Bay Terrace/Fort ...|   Boro Zone|\n",
      "|        16|       Queens|             Bayside|   Boro Zone|\n",
      "|        17|     Brooklyn|             Bedford|   Boro Zone|\n",
      "|        18|        Bronx|        Bedford Park|   Boro Zone|\n",
      "|        19|       Queens|           Bellerose|   Boro Zone|\n",
      "+----------+-------------+--------------------+------------+\n",
      "only showing top 20 rows\n",
      "\n"
     ]
    }
   ],
   "source": [
    "spark.sql(\"\"\"\n",
    "select * from taxi_zone\"\"\").show()"
   ]
  },
  {
   "cell_type": "code",
   "execution_count": 80,
   "id": "3d3ea46f",
   "metadata": {},
   "outputs": [
    {
     "name": "stderr",
     "output_type": "stream",
     "text": [
      "[Stage 45:>                                                         (0 + 8) / 8]\r"
     ]
    },
    {
     "name": "stdout",
     "output_type": "stream",
     "text": [
      "+--------------------+--------------------+\n",
      "|         pickup_zone|    destination_zone|\n",
      "+--------------------+--------------------+\n",
      "|              Inwood| Kingsbridge Heights|\n",
      "|     Jackson Heights|  Murray Hill-Queens|\n",
      "|           Flatlands|Marine Park/Mill ...|\n",
      "|           Bronxdale|         Eastchester|\n",
      "|      Queens Village|                  NA|\n",
      "|      Middle Village|      Middle Village|\n",
      "|           Sunnyside|         Old Astoria|\n",
      "|           Gravesend|      Sheepshead Bay|\n",
      "|Schuylerville/Edg...|Williamsbridge/Ol...|\n",
      "|Mott Haven/Port M...|       Melrose South|\n",
      "|Prospect-Lefferts...|Downtown Brooklyn...|\n",
      "|           Homecrest|    Bensonhurst East|\n",
      "|University Height...|West Farms/Bronx ...|\n",
      "|          Co-Op City|        West Village|\n",
      "|          Park Slope|     Jackson Heights|\n",
      "|Marine Park/Mill ...| Crown Heights South|\n",
      "|TriBeCa/Civic Center|    Bensonhurst East|\n",
      "|        Far Rockaway|         Hunts Point|\n",
      "|    Prospect Heights|Downtown Brooklyn...|\n",
      "|East Concourse/Co...|        Bedford Park|\n",
      "+--------------------+--------------------+\n",
      "only showing top 20 rows\n",
      "\n"
     ]
    },
    {
     "name": "stderr",
     "output_type": "stream",
     "text": [
      "                                                                                \r"
     ]
    }
   ],
   "source": [
    "spark.sql(\"\"\"\n",
    "\n",
    "SELECT t1.Zone as pickup_zone, CASE WHEN t2.Zone is NULL THEN 'Unknown' ELSE t2.Zone END AS destination_zone  \n",
    "from fhvhv y INNER JOIN taxi_zone t1 on t1.LocationID= y.PULocationID inner join \n",
    "taxi_zone t2 on t2.LocationID=y.DOLocationID\n",
    "GROUP BY 1,2 \n",
    "--order by avg(total_amount) DESC LIMIT 1\n",
    "\n",
    "\"\"\").show()"
   ]
  },
  {
   "cell_type": "code",
   "execution_count": 103,
   "id": "9ead4245",
   "metadata": {},
   "outputs": [
    {
     "name": "stderr",
     "output_type": "stream",
     "text": [
      "[Stage 85:=============================>                            (4 + 4) / 8]\r"
     ]
    },
    {
     "name": "stdout",
     "output_type": "stream",
     "text": [
      "+---------------------------------------------------+-----+\n",
      "|from_to                                            |count|\n",
      "+---------------------------------------------------+-----+\n",
      "|East New York/East New York                        |45041|\n",
      "|Borough Park/Borough Park                          |37329|\n",
      "|Canarsie/Canarsie                                  |28026|\n",
      "|Crown Heights North/Crown Heights North            |25976|\n",
      "|Bay Ridge/Bay Ridge                                |17934|\n",
      "|Jackson Heights/Jackson Heights                    |14688|\n",
      "|Astoria/Astoria                                    |14688|\n",
      "|Central Harlem North/Central Harlem North          |14481|\n",
      "|Bushwick South/Bushwick South                      |14424|\n",
      "|Flatbush/Ditmas Park/Flatbush/Ditmas Park          |13976|\n",
      "|South Ozone Park/South Ozone Park                  |13716|\n",
      "|Brownsville/Brownsville                            |12829|\n",
      "|JFK Airport/NA                                     |12542|\n",
      "|Prospect-Lefferts Gardens/Crown Heights North      |11814|\n",
      "|Forest Hills/Forest Hills                          |11548|\n",
      "|Bushwick North/Bushwick South                      |11491|\n",
      "|Bushwick South/Bushwick North                      |11487|\n",
      "|Crown Heights North/Prospect-Lefferts Gardens      |11462|\n",
      "|Crown Heights North/Stuyvesant Heights             |11342|\n",
      "|Prospect-Lefferts Gardens/Prospect-Lefferts Gardens|11308|\n",
      "+---------------------------------------------------+-----+\n",
      "only showing top 20 rows\n",
      "\n"
     ]
    },
    {
     "name": "stderr",
     "output_type": "stream",
     "text": [
      "                                                                                \r"
     ]
    }
   ],
   "source": [
    "spark.sql(\"\"\"\n",
    "\n",
    "select from_to, count(from_to) as count from\n",
    "(select concat(pickup_zone, '/', destination_zone) as from_to from (\n",
    "SELECT t1.Zone as pickup_zone, CASE WHEN t2.Zone is NULL THEN 'Unknown' ELSE t2.Zone END AS destination_zone\n",
    "from fhvhv y INNER JOIN taxi_zone t1 on t1.LocationID= y.PULocationID inner join \n",
    "taxi_zone t2 on t2.LocationID=y.DOLocationID))\n",
    "group by 1 order by count desc\n",
    "\"\"\").show(truncate=False)"
   ]
  },
  {
   "cell_type": "code",
   "execution_count": 104,
   "id": "ffb546eb",
   "metadata": {},
   "outputs": [
    {
     "name": "stdout",
     "output_type": "stream",
     "text": [
      "total 206M\r\n",
      "-rw-r--r-- 1 saheedyusuf saheedyusuf    0 Feb 25 21:23 _SUCCESS\r\n",
      "-rw-r--r-- 1 saheedyusuf saheedyusuf 8.6M Feb 25 21:23 part-00000-2db1a237-b145-41cc-b951-386590d59af1-c000.snappy.parquet\r\n",
      "-rw-r--r-- 1 saheedyusuf saheedyusuf 8.6M Feb 25 21:23 part-00001-2db1a237-b145-41cc-b951-386590d59af1-c000.snappy.parquet\r\n",
      "-rw-r--r-- 1 saheedyusuf saheedyusuf 8.6M Feb 25 21:23 part-00002-2db1a237-b145-41cc-b951-386590d59af1-c000.snappy.parquet\r\n",
      "-rw-r--r-- 1 saheedyusuf saheedyusuf 8.6M Feb 25 21:23 part-00003-2db1a237-b145-41cc-b951-386590d59af1-c000.snappy.parquet\r\n",
      "-rw-r--r-- 1 saheedyusuf saheedyusuf 8.6M Feb 25 21:23 part-00004-2db1a237-b145-41cc-b951-386590d59af1-c000.snappy.parquet\r\n",
      "-rw-r--r-- 1 saheedyusuf saheedyusuf 8.6M Feb 25 21:23 part-00005-2db1a237-b145-41cc-b951-386590d59af1-c000.snappy.parquet\r\n",
      "-rw-r--r-- 1 saheedyusuf saheedyusuf 8.6M Feb 25 21:23 part-00006-2db1a237-b145-41cc-b951-386590d59af1-c000.snappy.parquet\r\n",
      "-rw-r--r-- 1 saheedyusuf saheedyusuf 8.6M Feb 25 21:23 part-00007-2db1a237-b145-41cc-b951-386590d59af1-c000.snappy.parquet\r\n",
      "-rw-r--r-- 1 saheedyusuf saheedyusuf 8.6M Feb 25 21:23 part-00008-2db1a237-b145-41cc-b951-386590d59af1-c000.snappy.parquet\r\n",
      "-rw-r--r-- 1 saheedyusuf saheedyusuf 8.6M Feb 25 21:23 part-00009-2db1a237-b145-41cc-b951-386590d59af1-c000.snappy.parquet\r\n",
      "-rw-r--r-- 1 saheedyusuf saheedyusuf 8.6M Feb 25 21:23 part-00010-2db1a237-b145-41cc-b951-386590d59af1-c000.snappy.parquet\r\n",
      "-rw-r--r-- 1 saheedyusuf saheedyusuf 8.6M Feb 25 21:23 part-00011-2db1a237-b145-41cc-b951-386590d59af1-c000.snappy.parquet\r\n",
      "-rw-r--r-- 1 saheedyusuf saheedyusuf 8.6M Feb 25 21:23 part-00012-2db1a237-b145-41cc-b951-386590d59af1-c000.snappy.parquet\r\n",
      "-rw-r--r-- 1 saheedyusuf saheedyusuf 8.6M Feb 25 21:23 part-00013-2db1a237-b145-41cc-b951-386590d59af1-c000.snappy.parquet\r\n",
      "-rw-r--r-- 1 saheedyusuf saheedyusuf 8.6M Feb 25 21:23 part-00014-2db1a237-b145-41cc-b951-386590d59af1-c000.snappy.parquet\r\n",
      "-rw-r--r-- 1 saheedyusuf saheedyusuf 8.6M Feb 25 21:23 part-00015-2db1a237-b145-41cc-b951-386590d59af1-c000.snappy.parquet\r\n",
      "-rw-r--r-- 1 saheedyusuf saheedyusuf 8.6M Feb 25 21:23 part-00016-2db1a237-b145-41cc-b951-386590d59af1-c000.snappy.parquet\r\n",
      "-rw-r--r-- 1 saheedyusuf saheedyusuf 8.6M Feb 25 21:23 part-00017-2db1a237-b145-41cc-b951-386590d59af1-c000.snappy.parquet\r\n",
      "-rw-r--r-- 1 saheedyusuf saheedyusuf 8.6M Feb 25 21:23 part-00018-2db1a237-b145-41cc-b951-386590d59af1-c000.snappy.parquet\r\n",
      "-rw-r--r-- 1 saheedyusuf saheedyusuf 8.6M Feb 25 21:23 part-00019-2db1a237-b145-41cc-b951-386590d59af1-c000.snappy.parquet\r\n",
      "-rw-r--r-- 1 saheedyusuf saheedyusuf 8.6M Feb 25 21:23 part-00020-2db1a237-b145-41cc-b951-386590d59af1-c000.snappy.parquet\r\n",
      "-rw-r--r-- 1 saheedyusuf saheedyusuf 8.6M Feb 25 21:23 part-00021-2db1a237-b145-41cc-b951-386590d59af1-c000.snappy.parquet\r\n",
      "-rw-r--r-- 1 saheedyusuf saheedyusuf 8.6M Feb 25 21:23 part-00022-2db1a237-b145-41cc-b951-386590d59af1-c000.snappy.parquet\r\n",
      "-rw-r--r-- 1 saheedyusuf saheedyusuf 8.6M Feb 25 21:23 part-00023-2db1a237-b145-41cc-b951-386590d59af1-c000.snappy.parquet\r\n"
     ]
    }
   ],
   "source": [
    "!ls -lh /home/saheedyusuf/spark/week_5_batch_processing/code/data/fhvhv/pq"
   ]
  },
  {
   "cell_type": "code",
   "execution_count": null,
   "id": "cc470c49",
   "metadata": {},
   "outputs": [],
   "source": []
  }
 ],
 "metadata": {
  "kernelspec": {
   "display_name": "Python 3 (ipykernel)",
   "language": "python",
   "name": "python3"
  },
  "language_info": {
   "codemirror_mode": {
    "name": "ipython",
    "version": 3
   },
   "file_extension": ".py",
   "mimetype": "text/x-python",
   "name": "python",
   "nbconvert_exporter": "python",
   "pygments_lexer": "ipython3",
   "version": "3.9.2"
  }
 },
 "nbformat": 4,
 "nbformat_minor": 5
}
